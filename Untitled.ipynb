{
 "cells": [
  {
   "cell_type": "code",
   "execution_count": 5,
   "metadata": {
    "collapsed": false
   },
   "outputs": [],
   "source": [
    "from skge import HolE, StochasticTrainer"
   ]
  },
  {
   "cell_type": "code",
   "execution_count": 6,
   "metadata": {
    "collapsed": true
   },
   "outputs": [],
   "source": [
    "import pickle"
   ]
  },
  {
   "cell_type": "code",
   "execution_count": 8,
   "metadata": {
    "collapsed": false
   },
   "outputs": [],
   "source": [
    "with open(\"/home/jovyan/holographic-embeddings/data/wn18.bin\", 'rb') as fin:\n",
    "    data = pickle.load(fin)"
   ]
  },
  {
   "cell_type": "markdown",
   "metadata": {},
   "source": [
    "Conjuntos de listas que contiene el dataset:\n",
    "* `test_subs`\n",
    "* `valid_subs`\n",
    "* `entities`\n",
    "* `train_subs`\n",
    "* `relations`"
   ]
  },
  {
   "cell_type": "code",
   "execution_count": 9,
   "metadata": {
    "collapsed": false
   },
   "outputs": [
    {
     "name": "stdout",
     "output_type": "stream",
     "text": [
      "entities\n",
      "train_subs\n",
      "valid_subs\n",
      "test_subs\n",
      "relations\n",
      "(40943, 40943, 18)\n"
     ]
    }
   ],
   "source": [
    "for subset in data:\n",
    "    print(subset)\n",
    "\n",
    "    \n",
    "N = len(data['entities'])\n",
    "M = len(data['relations'])\n",
    "sz = (N, N, M)\n",
    "\n",
    "print(sz)    "
   ]
  },
  {
   "cell_type": "code",
   "execution_count": 10,
   "metadata": {
    "collapsed": false
   },
   "outputs": [
    {
     "name": "stdout",
     "output_type": "stream",
     "text": [
      "40943\n",
      "18\n",
      "141442\n",
      "5000\n",
      "5000\n"
     ]
    }
   ],
   "source": [
    "print(len(data['entities']))\n",
    "print(len(data['relations']))\n",
    "print(len(data[\"train_subs\"]))\n",
    "print(len(data[\"test_subs\"]))\n",
    "print(len(data[\"valid_subs\"]))"
   ]
  },
  {
   "cell_type": "code",
   "execution_count": 16,
   "metadata": {
    "collapsed": false
   },
   "outputs": [
    {
     "data": {
      "text/plain": [
       "['entities', 'train_subs', 'valid_subs', 'test_subs', 'relations']"
      ]
     },
     "execution_count": 16,
     "metadata": {},
     "output_type": "execute_result"
    }
   ],
   "source": [
    "[k for k in data.keys()]"
   ]
  },
  {
   "cell_type": "code",
   "execution_count": 2,
   "metadata": {
    "collapsed": true
   },
   "outputs": [],
   "source": [
    "import requests"
   ]
  },
  {
   "cell_type": "code",
   "execution_count": 3,
   "metadata": {
    "collapsed": true
   },
   "outputs": [],
   "source": [
    "import json"
   ]
  },
  {
   "cell_type": "code",
   "execution_count": 35,
   "metadata": {
    "collapsed": false
   },
   "outputs": [],
   "source": [
    "urlRequest = \"\"\"https://query.wikidata.org/bigdata/namespace/wdq/sparql?query=\n",
    "PREFIX wikibase: <http://wikiba.se/ontology>\n",
    "SELECT ?bne ?wikidata \n",
    "WHERE { ?wikidata wdt:P950 ?bne .\n",
    "}\n",
    "LIMIT 30\n",
    "\"\"\"\n",
    "\n",
    "headers = {\"Accept\" : \"application/json\"}\n",
    "response = requests.get(urlRequest, headers=headers)\n",
    "\n",
    "\n",
    "map_bne_wkdt = [(item['bne']['value'],item['wikidata']['value']) for item in response.json()['results']['bindings']]\n",
    "# Resultado deseado (BNE-ID, Wikidata-Entity-URI)\n",
    "\n",
    "\n",
    "entities = []\n",
    "relations = []\n",
    "subs = []\n",
    "\n",
    "def add_element(element, complete_list):\n",
    "    try:\n",
    "        #Item is on the list -> you don't need to add again\n",
    "        return complete_list.index(element)\n",
    "    except ValueError:\n",
    "        # Item is not on the list -> add it and return id\n",
    "        complete_list.append(element)\n",
    "        return len(complete_list)-1\n",
    "\n",
    "\n"
   ]
  },
  {
   "cell_type": "code",
   "execution_count": 41,
   "metadata": {
    "collapsed": false
   },
   "outputs": [
    {
     "name": "stdout",
     "output_type": "stream",
     "text": [
      "0\n"
     ]
    },
    {
     "data": {
      "text/plain": [
       "['abc', 'c']"
      ]
     },
     "execution_count": 41,
     "metadata": {},
     "output_type": "execute_result"
    }
   ],
   "source": [
    "print(add_element(\"abc\",entities))\n",
    "entities"
   ]
  },
  {
   "cell_type": "code",
   "execution_count": 48,
   "metadata": {
    "collapsed": false
   },
   "outputs": [],
   "source": [
    "f = open(\"helloworld\", \"w+\")\n",
    "f.write(\"Hello world from ipython\")\n",
    "f.close()"
   ]
  },
  {
   "cell_type": "code",
   "execution_count": 2,
   "metadata": {
    "collapsed": false
   },
   "outputs": [
    {
     "name": "stdout",
     "output_type": "stream",
     "text": [
      "18 entities, 16 relations, 0 tripletas\n",
      "\n",
      "Entities:\n",
      "http://www.wikidata.org/entity/statement/Q4061-56D5D279-933F-424A-BF3C-F815B71C9E13\n",
      "http://www.wikidata.org/entity/Q4061\n",
      "http://www.wikidata.org/entity/Q5\n",
      "http://www.wikidata.org/entity/statement/q4061-E6167F73-D1E0-481C-9670-C40130F6D713\n",
      "http://www.wikidata.org/reference/298b51a5d4075225a5c70e053aefbf566adc9c26\n",
      "http://www.wikidata.org/reference/75a7a4d7a65a86d7953fdcfa14a16308120a61a1\n",
      "http://www.wikidata.org/reference/d6e3ab4045fb3f3feea77895bc6b27e663fc878a\n",
      "http://www.wikidata.org/entity/Q206855\n",
      "http://www.wikidata.org/entity/statement/Q4061-78820460-1AB5-468B-9A5C-B4D4AC0F80BA\n",
      "http://www.wikidata.org/reference/7eb64cf9621d34c54fd4bd040ed4b61a88c4a1a0\n",
      "http://www.wikidata.org/entity/Q328\n",
      "http://www.wikidata.org/entity/statement/q4061-CE06B5CE-7CD8-4BCC-AB1E-8D4D7AB74784\n",
      "http://www.wikidata.org/entity/Q20666306\n",
      "http://www.wikidata.org/reference/39f3ce979f9d84a0ebf09abe1702bf22326695e9\n",
      "http://www.wikidata.org/entity/Q169514\n",
      "http://www.wikidata.org/entity/statement/Q4061-E3EC6076-89F0-46D2-BEC1-A29D17BAF0C0\n",
      "http://www.wikidata.org/value/8ff5330afaadc7c42c520831f2ac4a28\n",
      "http://www.wikidata.org/value/b2995751623614f950797f80606ddb60\n",
      "\n",
      "Relations:\n",
      "http://www.wikidata.org/prop/P31\n",
      "http://www.wikidata.org/prop/statement/P31\n",
      "http://schema.org/dateModified\n",
      "http://wikiba.se/ontology#statements\n",
      "http://wikiba.se/ontology#sitelinks\n",
      "http://www.wikidata.org/prop/P21\n",
      "http://www.w3.org/ns/prov#wasDerivedFrom\n",
      "http://www.wikidata.org/prop/reference/P813\n",
      "http://www.wikidata.org/prop/reference/P143\n",
      "http://www.wikidata.org/prop/P106\n",
      "http://www.wikidata.org/prop/P20\n",
      "http://www.wikidata.org/prop/reference/P248\n",
      "http://www.wikidata.org/prop/P18\n",
      "http://www.wikidata.org/prop/reference/value/P813\n",
      "http://schema.org/description\n",
      "http://www.w3.org/2000/01/rdf-schema#label\n",
      "\n",
      "Tripletas:\n"
     ]
    }
   ],
   "source": [
    "from dataset import Dataset\n",
    "import pickle\n",
    "\n",
    "da = Dataset()\n",
    "da.load_from_binary(\"aquimismo\")\n",
    "da.show()"
   ]
  },
  {
   "cell_type": "code",
   "execution_count": null,
   "metadata": {
    "collapsed": true
   },
   "outputs": [],
   "source": []
  }
 ],
 "metadata": {
  "anaconda-cloud": {},
  "kernelspec": {
   "display_name": "Python 3",
   "language": "python",
   "name": "python3"
  },
  "language_info": {
   "codemirror_mode": {
    "name": "ipython",
    "version": 3
   },
   "file_extension": ".py",
   "mimetype": "text/x-python",
   "name": "python",
   "nbconvert_exporter": "python",
   "pygments_lexer": "ipython3",
   "version": "3.5.2"
  }
 },
 "nbformat": 4,
 "nbformat_minor": 0
}
