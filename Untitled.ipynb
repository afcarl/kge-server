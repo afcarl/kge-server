{
 "cells": [
  {
   "cell_type": "code",
   "execution_count": null,
   "metadata": {
    "collapsed": false
   },
   "outputs": [],
   "source": [
    "urlRequest = \"\"\"https://query.wikidata.org/bigdata/namespace/wdq/sparql?query=\n",
    "PREFIX wikibase: <http://wikiba.se/ontology>\n",
    "SELECT ?bne ?wikidata \n",
    "WHERE { ?wikidata wdt:P950 ?bne .\n",
    "}\n",
    "LIMIT 30\n",
    "\"\"\"\n",
    "\n",
    "headers = {\"Accept\" : \"application/json\"}\n",
    "response = requests.get(urlRequest, headers=headers)\n",
    "\n",
    "\n",
    "map_bne_wkdt = [(item['bne']['value'],item['wikidata']['value']) for item in response.json()['results']['bindings']]\n",
    "# Resultado deseado (BNE-ID, Wikidata-Entity-URI)\n",
    "\n",
    "\n",
    "entities = []\n",
    "relations = []\n",
    "subs = []\n",
    "\n",
    "def add_element(element, complete_list):\n",
    "    try:\n",
    "        #Item is on the list -> you don't need to add again\n",
    "        return complete_list.index(element)\n",
    "    except ValueError:\n",
    "        # Item is not on the list -> add it and return id\n",
    "        complete_list.append(element)\n",
    "        return len(complete_list)-1\n",
    "\n",
    "\n"
   ]
  },
  {
   "cell_type": "code",
   "execution_count": null,
   "metadata": {
    "collapsed": false
   },
   "outputs": [],
   "source": [
    "import importlib\n",
    "import pickle\n",
    "import dataset\n",
    "importlib.reload(dataset)\n",
    "\n",
    "\n",
    "da = dataset.Dataset()\n",
    "da.load_from_binary(\"aquimismo\")\n",
    "da.show()"
   ]
  },
  {
   "cell_type": "code",
   "execution_count": null,
   "metadata": {
    "collapsed": false
   },
   "outputs": [],
   "source": [
    "\"\"\"PREFIX wikibase: <http://wikiba.se/ontology>\n",
    "construct { ?wikidata ?predicate ?object . ?object ?predicate2 ?object2 . ?object2 ?predicate3 ?object3 }\n",
    "WHERE { ?wikidata wdt:P950 ?bne .\n",
    "?wikidata ?predicate ?object .\n",
    "?object ?predicate2 ?object2 .\n",
    "?object2 ?predicate3 ?object3\n",
    "}\n",
    "\"\"\"\n",
    "\n",
    "def build_n_levels_query(n_levels):\n",
    "    def build_levels(n_levels):\n",
    "    ob1 = \"wikidata\"\n",
    "    pre = \"predicate\"\n",
    "    ob2 = \"object\"\n",
    "    pre_base = pre\n",
    "    obj_base = ob2\n",
    "    predicateCount = 1\n",
    "    objectCount = 1\n",
    "    \n",
    "    tripletas = []\n",
    "    \n",
    "    for level in range(1,n_levels+1):\n",
    "        tripletas.append((ob1, pre, ob2))\n",
    "        objectCount += 1\n",
    "        predicateCount += 1\n",
    "        ob1 = ob2\n",
    "        ob2 = obj_base + str(objectCount)\n",
    "        pre = pre_base + str(predicateCount)\n",
    "    \n",
    "    return tripletas\n",
    "\n",
    "\n",
    "lines = []\n",
    "for level in build_levels(4):\n",
    "    lines.append(\"?\"+level[0]+\" ?\"+level[0]+\" ?\"+level[2])\n",
    "    \n",
    "query = \"\"\"PREFIX wikibase: <http://wikiba.se/ontology>\n",
    "construct {{ {0} }}\n",
    "WHERE {{ ?wikidata wdt:P950 ?bne .\n",
    "{1}\n",
    "}} \"\"\".format(\" . \".join(lines), \" . \\n\".join(lines))\n",
    "\n",
    "print(query)    "
   ]
  },
  {
   "cell_type": "code",
   "execution_count": null,
   "metadata": {
    "collapsed": false
   },
   "outputs": [],
   "source": [
    "dict1 = {\"a\":1, \"b\":2, \"c\":3, \"d\":4}\n",
    "print(dict1[\"b\"])\n",
    "print(len(dict1))\n",
    "dict1[\"e\"]=5\n",
    "len(dict1)\n",
    "l = [[3,4,5],[3,2,5],[3,5,5]]\n",
    "[tuple(x) for x in l]"
   ]
  },
  {
   "cell_type": "code",
   "execution_count": null,
   "metadata": {
    "collapsed": false
   },
   "outputs": [],
   "source": [
    "t = [1,2,3,4,5,6,7,8,9,10,11,12,13,14]\n",
    "t.index(14)"
   ]
  },
  {
   "cell_type": "code",
   "execution_count": null,
   "metadata": {
    "collapsed": false,
    "scrolled": true
   },
   "outputs": [],
   "source": [
    "import importlib\n",
    "import pickle\n",
    "import dataset\n",
    "import model\n",
    "import skge\n",
    "importlib.reload(dataset)\n",
    "importlib.reload(model)\n",
    "\n",
    "\n",
    "datos = dataset.Dataset()\n",
    "datos.load_from_binary(\"holographic-embeddings/data/wikidata_2.bin\")\n",
    "datos.show(verbose=False)\n",
    "\n",
    "tr = model.AutoModel(datos)\n",
    "model = tr.train()\n",
    "\n"
   ]
  },
  {
   "cell_type": "code",
   "execution_count": null,
   "metadata": {
    "collapsed": false
   },
   "outputs": [],
   "source": [
    "import pickle\n",
    "\n",
    "f = open(\"holographic-embeddings/modeloentrenado\", 'rb')\n",
    "t = pickle.load(f)\n"
   ]
  },
  {
   "cell_type": "code",
   "execution_count": null,
   "metadata": {
    "collapsed": false
   },
   "outputs": [],
   "source": [
    "from collections import defaultdict as ddict\n",
    "idx = ddict(list)\n",
    "tt = ddict(lambda: {'ss': ddict(list), 'os': ddict(list)})\n",
    "xs = [(1,2,3),(3,2,5),(1,2,4),(4,6,3)]\n",
    "for s, p, o in xs:\n",
    "    idx[p].append((s,o))\n",
    "\n",
    "for s, p, o in xs:\n",
    "    tt[p]['os'][s].append(o)\n",
    "    tt[p]['ss'][o].append(s)\n",
    "    \n",
    "print(dict(tt))\n",
    "# print(idx)\n",
    "print(dict(idx).items())"
   ]
  },
  {
   "cell_type": "code",
   "execution_count": null,
   "metadata": {
    "collapsed": true
   },
   "outputs": [],
   "source": [
    "l = [(\"a\",[(0.026937118701835055, 50), (0.026937118701835055, 50)]), (\"b\",[(0.00099489368693191972, 50), (0.00099489368693191972, 50)])]\n",
    "sorted(l, key=lambda t: t[1][0], reverse=True):"
   ]
  },
  {
   "cell_type": "code",
   "execution_count": null,
   "metadata": {
    "collapsed": false,
    "scrolled": true
   },
   "outputs": [],
   "source": [
    "import importlib\n",
    "import pickle\n",
    "import dataset\n",
    "import algorithm\n",
    "import experiment\n",
    "import skge\n",
    "importlib.reload(experiment)\n",
    "importlib.reload(dataset)\n",
    "importlib.reload(algorithm)\n",
    "\n",
    "\n",
    "dtset = dataset.Dataset()\n",
    "# dataset.load_from_binary(\"holographic-embeddings/data/wn18.bin\")\n",
    "dtset.load_from_binary(\"wdata_15k.bin\")\n",
    "\n",
    "alg = algorithm.Algorithm(dtset)\n",
    "all_models = alg.find_best(ncomps=range(80, 100, 20),model_types=[skge.TransE])\n",
    "print(\"finished\")"
   ]
  },
  {
   "cell_type": "code",
   "execution_count": 1,
   "metadata": {
    "collapsed": false,
    "scrolled": true
   },
   "outputs": [
    {
     "name": "stdout",
     "output_type": "stream",
     "text": [
      "{'init': 'nunif', 'no_pairwise': False, 'scores': [], 'ne': 1, 'exectimes': [], 'evaluator': <class 'algorithm.TransEEval'>, 'model_type': <class 'skge.transe.TransE'>, 'sampler': 'random-mode', 'me': 200, 'trainer_type': <class 'skge.base.PairwiseStochasticTrainer'>, 'ncomp': 50, 'mode': 'rank', 'lr': 0.1, 'fout': None, 'nb': 100, 'test_all': 200, 'train_all': False, 'dataset': <dataset.Dataset object at 0x7fc1bdfd5d68>, 'best_epoch': None, 'best_valid_score': -1.0, 'th_num': 0, 'neval': -1, 'afs': 'sigmoid', 'margin': 2}\n",
      "Fitting model TransE with trainer PairwiseStochasticTrainer\n",
      "[0][  1] time = 0s, violations = 21483\n",
      "[0][  2] time = 0s, violations = 13247\n",
      "[0][  3] time = 0s, violations = 7272\n",
      "[0][  4] time = 0s, violations = 4212\n",
      "[0][  5] time = 0s, violations = 2825\n",
      "[0][  6] time = 0s, violations = 2019\n",
      "[0][  7] time = 0s, violations = 1571\n",
      "[0][  8] time = 0s, violations = 1291\n",
      "[0][  9] time = 0s, violations = 1141\n",
      "[0][ 10] time = 0s, violations = 908\n",
      "[0][ 11] time = 0s, violations = 791\n",
      "[0][ 12] time = 0s, violations = 752\n",
      "[0][ 13] time = 0s, violations = 685\n",
      "[0][ 14] time = 0s, violations = 585\n",
      "[0][ 15] time = 0s, violations = 536\n",
      "[0][ 16] time = 0s, violations = 545\n",
      "[0][ 17] time = 0s, violations = 523\n",
      "[0][ 18] time = 0s, violations = 447\n",
      "[0][ 19] time = 0s, violations = 446\n",
      "[0][ 20] time = 0s, violations = 477\n",
      "[0][ 21] time = 0s, violations = 382\n",
      "[0][ 22] time = 0s, violations = 396\n",
      "[0][ 23] time = 0s, violations = 380\n",
      "[0][ 24] time = 0s, violations = 365\n",
      "[0][ 25] time = 0s, violations = 335\n",
      "[0][ 26] time = 0s, violations = 324\n",
      "[0][ 27] time = 0s, violations = 305\n",
      "[0][ 28] time = 0s, violations = 267\n",
      "[0][ 29] time = 0s, violations = 347\n",
      "[0][ 30] time = 0s, violations = 322\n",
      "[0][ 31] time = 0s, violations = 297\n",
      "[0][ 32] time = 0s, violations = 280\n",
      "[0][ 33] time = 0s, violations = 298\n",
      "[0][ 34] time = 0s, violations = 260\n",
      "[0][ 35] time = 0s, violations = 262\n",
      "[0][ 36] time = 0s, violations = 264\n",
      "[0][ 37] time = 0s, violations = 245\n",
      "[0][ 38] time = 0s, violations = 236\n",
      "[0][ 39] time = 0s, violations = 228\n",
      "[0][ 40] time = 0s, violations = 226\n",
      "[0][ 41] time = 0s, violations = 221\n",
      "[0][ 42] time = 0s, violations = 213\n",
      "[0][ 43] time = 0s, violations = 232\n",
      "[0][ 44] time = 0s, violations = 196\n",
      "[0][ 45] time = 0s, violations = 186\n",
      "[0][ 46] time = 0s, violations = 218\n",
      "[0][ 47] time = 0s, violations = 196\n",
      "[0][ 48] time = 0s, violations = 191\n",
      "[0][ 49] time = 0s, violations = 183\n",
      "[0][ 50] time = 0s, violations = 201\n",
      "[0][ 51] time = 0s, violations = 183\n",
      "[0][ 52] time = 0s, violations = 196\n",
      "[0][ 53] time = 0s, violations = 195\n",
      "[0][ 54] time = 0s, violations = 167\n",
      "[0][ 55] time = 0s, violations = 176\n",
      "[0][ 56] time = 0s, violations = 177\n",
      "[0][ 57] time = 0s, violations = 195\n",
      "[0][ 58] time = 0s, violations = 178\n",
      "[0][ 59] time = 0s, violations = 141\n",
      "[0][ 60] time = 0s, violations = 153\n",
      "[0][ 61] time = 0s, violations = 185\n",
      "[0][ 62] time = 0s, violations = 166\n",
      "[0][ 63] time = 0s, violations = 151\n",
      "[0][ 64] time = 0s, violations = 138\n",
      "[0][ 65] time = 0s, violations = 170\n",
      "[0][ 66] time = 0s, violations = 151\n",
      "[0][ 67] time = 0s, violations = 143\n",
      "[0][ 68] time = 0s, violations = 158\n",
      "[0][ 69] time = 0s, violations = 139\n",
      "[0][ 70] time = 0s, violations = 152\n",
      "[0][ 71] time = 0s, violations = 134\n",
      "[0][ 72] time = 0s, violations = 155\n",
      "[0][ 73] time = 0s, violations = 167\n",
      "[0][ 74] time = 0s, violations = 119\n",
      "[0][ 75] time = 0s, violations = 146\n",
      "[0][ 76] time = 0s, violations = 169\n",
      "[0][ 77] time = 0s, violations = 127\n",
      "[0][ 78] time = 0s, violations = 141\n",
      "[0][ 79] time = 0s, violations = 118\n",
      "[0][ 80] time = 0s, violations = 142\n",
      "[0][ 81] time = 0s, violations = 119\n",
      "[0][ 82] time = 0s, violations = 129\n",
      "[0][ 83] time = 0s, violations = 144\n",
      "[0][ 84] time = 0s, violations = 135\n",
      "[0][ 85] time = 0s, violations = 127\n",
      "[0][ 86] time = 0s, violations = 125\n",
      "[0][ 87] time = 0s, violations = 132\n",
      "[0][ 88] time = 0s, violations = 117\n",
      "[0][ 89] time = 0s, violations = 122\n",
      "[0][ 90] time = 0s, violations = 131\n",
      "[0][ 91] time = 0s, violations = 141\n",
      "[0][ 92] time = 0s, violations = 134\n",
      "[0][ 93] time = 0s, violations = 140\n",
      "[0][ 94] time = 0s, violations = 88\n",
      "[0][ 95] time = 0s, violations = 110\n",
      "[0][ 96] time = 0s, violations = 126\n",
      "[0][ 97] time = 0s, violations = 113\n",
      "[0][ 98] time = 0s, violations = 108\n",
      "[0][ 99] time = 0s, violations = 123\n",
      "[0][100] time = 0s, violations = 128\n",
      "[0][101] time = 0s, violations = 95\n",
      "[0][102] time = 0s, violations = 128\n",
      "[0][103] time = 0s, violations = 130\n",
      "[0][104] time = 0s, violations = 103\n",
      "[0][105] time = 0s, violations = 82\n",
      "[0][106] time = 0s, violations = 108\n",
      "[0][107] time = 0s, violations = 110\n",
      "[0][108] time = 0s, violations = 100\n",
      "[0][109] time = 0s, violations = 102\n",
      "[0][110] time = 0s, violations = 115\n",
      "[0][111] time = 0s, violations = 113\n",
      "[0][112] time = 0s, violations = 95\n",
      "[0][113] time = 0s, violations = 105\n",
      "[0][114] time = 0s, violations = 117\n",
      "[0][115] time = 0s, violations = 93\n",
      "[0][116] time = 0s, violations = 90\n",
      "[0][117] time = 0s, violations = 105\n",
      "[0][118] time = 0s, violations = 109\n",
      "[0][119] time = 0s, violations = 107\n",
      "[0][120] time = 0s, violations = 109\n",
      "[0][121] time = 0s, violations = 95\n",
      "[0][122] time = 0s, violations = 94\n",
      "[0][123] time = 0s, violations = 83\n",
      "[0][124] time = 0s, violations = 97\n",
      "[0][125] time = 0s, violations = 99\n",
      "[0][126] time = 0s, violations = 98\n",
      "[0][127] time = 0s, violations = 108\n",
      "[0][128] time = 0s, violations = 99\n",
      "[0][129] time = 0s, violations = 98\n",
      "[0][130] time = 0s, violations = 91\n",
      "[0][131] time = 0s, violations = 104\n",
      "[0][132] time = 0s, violations = 74\n",
      "[0][133] time = 0s, violations = 102\n",
      "[0][134] time = 0s, violations = 81\n",
      "[0][135] time = 0s, violations = 91\n",
      "[0][136] time = 0s, violations = 86\n",
      "[0][137] time = 0s, violations = 94\n",
      "[0][138] time = 0s, violations = 90\n",
      "[0][139] time = 0s, violations = 94\n",
      "[0][140] time = 0s, violations = 83\n",
      "[0][141] time = 0s, violations = 80\n",
      "[0][142] time = 0s, violations = 93\n",
      "[0][143] time = 0s, violations = 73\n",
      "[0][144] time = 0s, violations = 83\n",
      "[0][145] time = 0s, violations = 88\n",
      "[0][146] time = 0s, violations = 69\n",
      "[0][147] time = 0s, violations = 103\n",
      "[0][148] time = 0s, violations = 92\n",
      "[0][149] time = 0s, violations = 76\n",
      "[0][150] time = 0s, violations = 74\n",
      "[0][151] time = 0s, violations = 104\n",
      "[0][152] time = 0s, violations = 80\n",
      "[0][153] time = 0s, violations = 72\n",
      "[0][154] time = 0s, violations = 84\n",
      "[0][155] time = 0s, violations = 86\n",
      "[0][156] time = 0s, violations = 81\n",
      "[0][157] time = 0s, violations = 72\n",
      "[0][158] time = 0s, violations = 82\n",
      "[0][159] time = 0s, violations = 91\n",
      "[0][160] time = 0s, violations = 93\n",
      "[0][161] time = 0s, violations = 51\n",
      "[0][162] time = 0s, violations = 96\n",
      "[0][163] time = 0s, violations = 67\n",
      "[0][164] time = 0s, violations = 65\n",
      "[0][165] time = 0s, violations = 80\n",
      "[0][166] time = 0s, violations = 87\n",
      "[0][167] time = 0s, violations = 85\n",
      "[0][168] time = 0s, violations = 72\n",
      "[0][169] time = 0s, violations = 77\n",
      "[0][170] time = 0s, violations = 90\n",
      "[0][171] time = 0s, violations = 77\n",
      "[0][172] time = 0s, violations = 64\n",
      "[0][173] time = 0s, violations = 74\n",
      "[0][174] time = 0s, violations = 80\n",
      "[0][175] time = 0s, violations = 75\n",
      "[0][176] time = 0s, violations = 55\n",
      "[0][177] time = 0s, violations = 53\n",
      "[0][178] time = 0s, violations = 65\n",
      "[0][179] time = 0s, violations = 64\n",
      "[0][180] time = 0s, violations = 68\n",
      "[0][181] time = 0s, violations = 61\n",
      "[0][182] time = 0s, violations = 79\n",
      "[0][183] time = 0s, violations = 78\n",
      "[0][184] time = 0s, violations = 74\n",
      "[0][185] time = 0s, violations = 56\n",
      "[0][186] time = 0s, violations = 81\n",
      "[0][187] time = 0s, violations = 66\n",
      "[0][188] time = 0s, violations = 83\n",
      "[0][189] time = 0s, violations = 61\n",
      "[0][190] time = 0s, violations = 61\n",
      "[0][191] time = 0s, violations = 58\n",
      "[0][192] time = 0s, violations = 50\n",
      "[0][193] time = 0s, violations = 67\n",
      "[0][194] time = 0s, violations = 59\n",
      "[0][195] time = 0s, violations = 66\n",
      "[0][196] time = 0s, violations = 42\n",
      "[0][197] time = 0s, violations = 65\n",
      "[0][198] time = 0s, violations = 59\n",
      "[0][199] time = 0s, violations = 61\n",
      "[0][200] time = 0s, violations = 57\n",
      "[0] before eval\n",
      "[0] after eval, {} before ranking\n",
      "[200] VALID: MRR = 0.08/0.09, Mean Rank = 3309.68/3297.66, Hits@10 = 15.14/16.45\n",
      "[0] after ranking\n",
      "[0] FMRR valid = 0.088752, best = -1.000000\n",
      "[200] TEST: MRR = 0.08/0.09, Mean Rank = 3423.51/3410.01, Hits@10 = 13.59/15.18\n",
      "[0][200] time = 54s, violations = 57\n",
      "[0] before eval\n",
      "[0] after eval, {} before ranking\n",
      "[200] VALID: MRR = 0.08/0.09, Mean Rank = 3309.68/3297.66, Hits@10 = 15.14/16.45\n",
      "[0] after ranking\n",
      "[0] FMRR valid = 0.088752, best = 0.088752\n",
      "<skge.transe.TransE object at 0x7fc1d6766240>\n"
     ]
    }
   ],
   "source": [
    "import importlib\n",
    "import pickle\n",
    "import dataset\n",
    "import algorithm\n",
    "import experiment\n",
    "import skge\n",
    "importlib.reload(experiment)\n",
    "importlib.reload(dataset)\n",
    "importlib.reload(algorithm)\n",
    "dtset = dataset.Dataset()\n",
    "# dataset.load_from_binary(\"holographic-embeddings/data/wn18.bin\")\n",
    "dtset.load_from_binary(\"wdata_15k.bin\")\n",
    "\n",
    "modeltrainer = algorithm.ModelTrainer(dtset, model_type=skge.TransE, test_all=200,\n",
    "                                max_epochs=200, margin=2, ncomp=50,\n",
    "                                mode=\"rank\")\n",
    "modeltrained = modeltrainer.run()\n",
    "print (modeltrained)"
   ]
  },
  {
   "cell_type": "code",
   "execution_count": 10,
   "metadata": {
    "collapsed": false
   },
   "outputs": [
    {
     "name": "stdout",
     "output_type": "stream",
     "text": [
      "http://www.wikidata.org/entity/Q7979\n",
      "http://www.wikidata.org/entity/statement/Q7979-6bf312ba-4574-0c7e-729c-091f0af337b6\n",
      "http://www.wikidata.org/entity/statement/Q7979-65dc5b59-4603-d394-ed12-2d2064767fb5\n",
      "http://www.wikidata.org/entity/Q112607\n",
      "http://www.wikidata.org/entity/statement/Q9440-2A68F1A9-FB95-44CA-8DDC-6D44CFC78A18\n",
      "http://www.wikidata.org/entity/statement/q1860-99BBB6C3-AEAD-4445-83A4-06A3557FC46F\n",
      "http://www.wikidata.org/entity/Q36748\n",
      "http://www.wikidata.org/entity/statement/Q556-4066958f-46f2-22c3-605f-6c62789f6c23\n",
      "http://www.wikidata.org/entity/statement/Q5664-91ef733a-4a42-61a1-8b35-1b3fe32511a6\n",
      "http://www.wikidata.org/entity/statement/Q1860-5fae9b53-4c34-8142-f3b8-6976a11ab19e\n"
     ]
    }
   ],
   "source": [
    "for e in [50, 11921, 11926, 3663, 8417, 12018, 10221, 2841, 7227, 12050]:\n",
    "    print(dataset.Entities(dtset).get_entity(e))\n"
   ]
  },
  {
   "cell_type": "code",
   "execution_count": 3,
   "metadata": {
    "collapsed": false
   },
   "outputs": [
    {
     "data": {
      "text/plain": [
       "True"
      ]
     },
     "execution_count": 3,
     "metadata": {},
     "output_type": "execute_result"
    }
   ],
   "source": [
    "import sys\n",
    "import os\n",
    "# import annoy\n",
    "from annoy import AnnoyIndex\n",
    "# import random\n",
    "# import pickle\n",
    "\n",
    "# trained = open(\"holographic-embeddings/modeloentrenado\", \"rb\")\n",
    "# trained_m = pickle.load(trained)\n",
    "\n",
    "# e_matrix = trained_m['model'].E\n",
    "e_matrix = modeltrained.E\n",
    "nrows, nmod = e_matrix.shape\n",
    "\n",
    "t = AnnoyIndex(50)\n",
    "for i in range(0, nrows):\n",
    "    v = list(e_matrix[i])\n",
    "    t.add_item(i, v)\n",
    "\n",
    "t.build(10)\n",
    "t.save('test.ann')\n"
   ]
  },
  {
   "cell_type": "code",
   "execution_count": 9,
   "metadata": {
    "collapsed": false
   },
   "outputs": [
    {
     "name": "stdout",
     "output_type": "stream",
     "text": [
      "[50, 11921, 11926, 3663, 8417, 12018, 10221, 2841, 7227, 12050]\n"
     ]
    }
   ],
   "source": [
    "print(t.get_nns_by_item(50, 10))"
   ]
  }
 ],
 "metadata": {
  "anaconda-cloud": {},
  "kernelspec": {
   "display_name": "Python 3",
   "language": "python",
   "name": "python3"
  },
  "language_info": {
   "codemirror_mode": {
    "name": "ipython",
    "version": 3
   },
   "file_extension": ".py",
   "mimetype": "text/x-python",
   "name": "python",
   "nbconvert_exporter": "python",
   "pygments_lexer": "ipython3",
   "version": "3.5.2"
  }
 },
 "nbformat": 4,
 "nbformat_minor": 0
}
