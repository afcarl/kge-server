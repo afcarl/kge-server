{
 "cells": [
  {
   "cell_type": "code",
   "execution_count": 35,
   "metadata": {
    "collapsed": false
   },
   "outputs": [],
   "source": [
    "urlRequest = \"\"\"https://query.wikidata.org/bigdata/namespace/wdq/sparql?query=\n",
    "PREFIX wikibase: <http://wikiba.se/ontology>\n",
    "SELECT ?bne ?wikidata \n",
    "WHERE { ?wikidata wdt:P950 ?bne .\n",
    "}\n",
    "LIMIT 30\n",
    "\"\"\"\n",
    "\n",
    "headers = {\"Accept\" : \"application/json\"}\n",
    "response = requests.get(urlRequest, headers=headers)\n",
    "\n",
    "\n",
    "map_bne_wkdt = [(item['bne']['value'],item['wikidata']['value']) for item in response.json()['results']['bindings']]\n",
    "# Resultado deseado (BNE-ID, Wikidata-Entity-URI)\n",
    "\n",
    "\n",
    "entities = []\n",
    "relations = []\n",
    "subs = []\n",
    "\n",
    "def add_element(element, complete_list):\n",
    "    try:\n",
    "        #Item is on the list -> you don't need to add again\n",
    "        return complete_list.index(element)\n",
    "    except ValueError:\n",
    "        # Item is not on the list -> add it and return id\n",
    "        complete_list.append(element)\n",
    "        return len(complete_list)-1\n",
    "\n",
    "\n"
   ]
  },
  {
   "cell_type": "code",
   "execution_count": 19,
   "metadata": {
    "collapsed": false
   },
   "outputs": [
    {
     "name": "stdout",
     "output_type": "stream",
     "text": [
      "89321 entities, 1251 relations, 98010 tripletas\n"
     ]
    }
   ],
   "source": [
    "import importlib\n",
    "import pickle\n",
    "import dataset\n",
    "importlib.reload(dataset)\n",
    "\n",
    "\n",
    "da = dataset.Dataset()\n",
    "da.load_from_binary(\"aquimismo\")\n",
    "da.show()"
   ]
  },
  {
   "cell_type": "code",
   "execution_count": 29,
   "metadata": {
    "collapsed": false
   },
   "outputs": [
    {
     "name": "stdout",
     "output_type": "stream",
     "text": [
      "1\n",
      "2\n",
      "3\n",
      "4\n",
      "PREFIX wikibase: <http://wikiba.se/ontology>\n",
      "construct { ?wikidata ?wikidata ?object . ?object ?object ?object2 . ?object2 ?object2 ?object3 . ?object3 ?object3 ?object4 }\n",
      "WHERE { ?wikidata wdt:P950 ?bne .\n",
      "?wikidata ?wikidata ?object . \n",
      "?object ?object ?object2 . \n",
      "?object2 ?object2 ?object3 . \n",
      "?object3 ?object3 ?object4\n",
      "} \n"
     ]
    }
   ],
   "source": [
    "\"\"\"PREFIX wikibase: <http://wikiba.se/ontology>\n",
    "construct { ?wikidata ?predicate ?object . ?object ?predicate2 ?object2 . ?object2 ?predicate3 ?object3 }\n",
    "WHERE { ?wikidata wdt:P950 ?bne .\n",
    "?wikidata ?predicate ?object .\n",
    "?object ?predicate2 ?object2 .\n",
    "?object2 ?predicate3 ?object3\n",
    "}\n",
    "\"\"\"\n",
    "\n",
    "def build_n_levels_query(n_levels):\n",
    "    def build_levels(n_levels):\n",
    "    ob1 = \"wikidata\"\n",
    "    pre = \"predicate\"\n",
    "    ob2 = \"object\"\n",
    "    pre_base = pre\n",
    "    obj_base = ob2\n",
    "    predicateCount = 1\n",
    "    objectCount = 1\n",
    "    \n",
    "    tripletas = []\n",
    "    \n",
    "    for level in range(1,n_levels+1):\n",
    "        tripletas.append((ob1, pre, ob2))\n",
    "        objectCount += 1\n",
    "        predicateCount += 1\n",
    "        ob1 = ob2\n",
    "        ob2 = obj_base + str(objectCount)\n",
    "        pre = pre_base + str(predicateCount)\n",
    "    \n",
    "    return tripletas\n",
    "\n",
    "\n",
    "lines = []\n",
    "for level in build_levels(4):\n",
    "    lines.append(\"?\"+level[0]+\" ?\"+level[0]+\" ?\"+level[2])\n",
    "    \n",
    "query = \"\"\"PREFIX wikibase: <http://wikiba.se/ontology>\n",
    "construct {{ {0} }}\n",
    "WHERE {{ ?wikidata wdt:P950 ?bne .\n",
    "{1}\n",
    "}} \"\"\".format(\" . \".join(lines), \" . \\n\".join(lines))\n",
    "\n",
    "print(query)    "
   ]
  },
  {
   "cell_type": "code",
   "execution_count": 50,
   "metadata": {
    "collapsed": false
   },
   "outputs": [
    {
     "name": "stdout",
     "output_type": "stream",
     "text": [
      "2\n",
      "4\n"
     ]
    },
    {
     "data": {
      "text/plain": [
       "[(3, 4, 5), (3, 2, 5), (3, 5, 5)]"
      ]
     },
     "execution_count": 50,
     "metadata": {},
     "output_type": "execute_result"
    }
   ],
   "source": [
    "dict1 = {\"a\":1, \"b\":2, \"c\":3, \"d\":4}\n",
    "print(dict1[\"b\"])\n",
    "print(len(dict1))\n",
    "dict1[\"e\"]=5\n",
    "len(dict1)\n",
    "l = [[3,4,5],[3,2,5],[3,5,5]]\n",
    "[tuple(x) for x in l]"
   ]
  },
  {
   "cell_type": "code",
   "execution_count": 4,
   "metadata": {
    "collapsed": false
   },
   "outputs": [
    {
     "data": {
      "text/plain": [
       "13"
      ]
     },
     "execution_count": 4,
     "metadata": {},
     "output_type": "execute_result"
    }
   ],
   "source": [
    "t = [1,2,3,4,5,6,7,8,9,10,11,12,13,14]\n",
    "t.index(14)"
   ]
  },
  {
   "cell_type": "code",
   "execution_count": 7,
   "metadata": {
    "collapsed": false
   },
   "outputs": [
    {
     "ename": "AssertionError",
     "evalue": "",
     "output_type": "error",
     "traceback": [
      "\u001b[0;31m---------------------------------------------------------------------------\u001b[0m",
      "\u001b[0;31mAssertionError\u001b[0m                            Traceback (most recent call last)",
      "\u001b[0;32m<ipython-input-7-bcc7667a2a2a>\u001b[0m in \u001b[0;36m<module>\u001b[0;34m()\u001b[0m\n\u001b[1;32m      3\u001b[0m \u001b[0mc\u001b[0m \u001b[0;34m=\u001b[0m \u001b[0;34m\"Qualifier name.svg\"\u001b[0m\u001b[0;34m\u001b[0m\u001b[0m\n\u001b[1;32m      4\u001b[0m \u001b[0md\u001b[0m \u001b[0;34m=\u001b[0m \u001b[0;34m\"http://www.wikidata.org/entity/Q368\"\u001b[0m\u001b[0;34m\u001b[0m\u001b[0m\n\u001b[0;32m----> 5\u001b[0;31m \u001b[0;32massert\u001b[0m \u001b[0;32mTrue\u001b[0m \u001b[0;34m==\u001b[0m \u001b[0;32mFalse\u001b[0m\u001b[0;34m\u001b[0m\u001b[0m\n\u001b[0m",
      "\u001b[0;31mAssertionError\u001b[0m: "
     ]
    }
   ],
   "source": [
    "a = \"Q123456\"\n",
    "b = \"Q54-sdfsd-232-asdf-1\"\n",
    "c = \"Qualifier name.svg\"\n",
    "d = \"http://www.wikidata.org/entity/Q368\"\n",
    "assert True == False"
   ]
  },
  {
   "cell_type": "code",
   "execution_count": 40,
   "metadata": {
    "collapsed": false
   },
   "outputs": [
    {
     "name": "stdout",
     "output_type": "stream",
     "text": [
      "<class 'datetime.timedelta'>\n",
      "1\n"
     ]
    }
   ],
   "source": [
    "ina = 32608 / 32608\n",
    "from datetime import datetime\n",
    "import time\n",
    "t1 = datetime.now()\n",
    "time.sleep(1)\n",
    "t2 = datetime.now()\n",
    "print(type(t1-t2))\n",
    "print(\"{}\".format((t2-t1).seconds))\n"
   ]
  }
 ],
 "metadata": {
  "anaconda-cloud": {},
  "kernelspec": {
   "display_name": "Python 3",
   "language": "python",
   "name": "python3"
  },
  "language_info": {
   "codemirror_mode": {
    "name": "ipython",
    "version": 3
   },
   "file_extension": ".py",
   "mimetype": "text/x-python",
   "name": "python",
   "nbconvert_exporter": "python",
   "pygments_lexer": "ipython3",
   "version": "3.5.2"
  }
 },
 "nbformat": 4,
 "nbformat_minor": 0
}
