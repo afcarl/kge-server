{
 "cells": [
  {
   "cell_type": "code",
   "execution_count": 22,
   "metadata": {
    "collapsed": false,
    "scrolled": true
   },
   "outputs": [
    {
     "name": "stdout",
     "output_type": "stream",
     "text": [
      "XX1149955 \t http://www.wikidata.org/entity/Q42\n",
      "XX1157500 \t http://www.wikidata.org/entity/Q23\n",
      "XX1601283 \t http://www.wikidata.org/entity/Q207\n",
      "XX450924 \t http://www.wikidata.org/entity/Q183\n",
      "XX865983 \t http://www.wikidata.org/entity/Q297\n",
      "XX1022209 \t http://www.wikidata.org/entity/Q368\n",
      "XX1026401 \t http://www.wikidata.org/entity/Q1405\n",
      "XX1044878 \t http://www.wikidata.org/entity/Q3374\n",
      "XX1085266 \t http://www.wikidata.org/entity/Q1124\n",
      "XX1108831 \t http://www.wikidata.org/entity/Q1149\n",
      "XX1146791 \t http://www.wikidata.org/entity/Q747\n",
      "XX1155787 \t http://www.wikidata.org/entity/Q859\n",
      "XX1156883 \t http://www.wikidata.org/entity/Q1868\n",
      "XX1190528 \t http://www.wikidata.org/entity/Q1056\n",
      "XX1195983 \t http://www.wikidata.org/entity/Q1488\n",
      "XX1202674 \t http://www.wikidata.org/entity/Q1267\n",
      "XX1220179 \t http://www.wikidata.org/entity/Q1317\n",
      "XX1253209 \t http://www.wikidata.org/entity/Q2667\n",
      "XX1266593 \t http://www.wikidata.org/entity/Q873\n",
      "XX1302720 \t http://www.wikidata.org/entity/Q2573\n",
      "XX1475818 \t http://www.wikidata.org/entity/Q1254\n",
      "XX1536789 \t http://www.wikidata.org/entity/Q2190\n",
      "XX1720293 \t http://www.wikidata.org/entity/Q909\n",
      "XX1721422 \t http://www.wikidata.org/entity/Q501\n",
      "XX1721463 \t http://www.wikidata.org/entity/Q619\n",
      "XX451232 \t http://www.wikidata.org/entity/Q801\n",
      "XX455778 \t http://www.wikidata.org/entity/Q807\n",
      "XX4908152 \t http://www.wikidata.org/entity/Q686\n",
      "XX4946954 \t http://www.wikidata.org/entity/Q920\n",
      "XX527582 \t http://www.wikidata.org/entity/Q556\n",
      "XX530277 \t http://www.wikidata.org/entity/Q1100\n",
      "XX5308160 \t http://www.wikidata.org/entity/Q414\n",
      "XX531321 \t http://www.wikidata.org/entity/Q716\n",
      "XX534324 \t http://www.wikidata.org/entity/Q876\n",
      "XX536285 \t http://www.wikidata.org/entity/Q861\n",
      "XX821118 \t http://www.wikidata.org/entity/Q2492\n",
      "XX830098 \t http://www.wikidata.org/entity/Q2518\n",
      "XX831181 \t http://www.wikidata.org/entity/Q926\n",
      "XX834035 \t http://www.wikidata.org/entity/Q937\n",
      "XX837554 \t http://www.wikidata.org/entity/Q1325\n",
      "XX852201 \t http://www.wikidata.org/entity/Q79822\n",
      "XX870212 \t http://www.wikidata.org/entity/Q1500\n",
      "XX874783 \t http://www.wikidata.org/entity/Q1398\n",
      "XX876499 \t http://www.wikidata.org/entity/Q2567\n",
      "XX878400 \t http://www.wikidata.org/entity/Q1151\n",
      "XX894692 \t http://www.wikidata.org/entity/Q1276\n",
      "XX895839 \t http://www.wikidata.org/entity/Q853\n",
      "XX907590 \t http://www.wikidata.org/entity/Q905\n",
      "XX914456 \t http://www.wikidata.org/entity/Q475\n",
      "XX915528 \t http://www.wikidata.org/entity/Q2494\n",
      "XX927646 \t http://www.wikidata.org/entity/Q1257\n",
      "XX938078 \t http://www.wikidata.org/entity/Q633\n",
      "XX959565 \t http://www.wikidata.org/entity/Q849\n",
      "XX989456 \t http://www.wikidata.org/entity/Q1646\n",
      "XX992838 \t http://www.wikidata.org/entity/Q1339\n",
      "XX995632 \t http://www.wikidata.org/entity/Q1511\n",
      "XX1002945 \t http://www.wikidata.org/entity/Q9130\n",
      "XX1003226 \t http://www.wikidata.org/entity/Q9342\n",
      "XX1007441 \t http://www.wikidata.org/entity/Q4128\n",
      "XX1012281 \t http://www.wikidata.org/entity/Q9458\n",
      "XX1033111 \t http://www.wikidata.org/entity/Q5664\n",
      "XX1041185 \t http://www.wikidata.org/entity/Q7728\n",
      "XX1069173 \t http://www.wikidata.org/entity/Q5721\n",
      "XX1081117 \t http://www.wikidata.org/entity/Q9348\n",
      "XX1081498 \t http://www.wikidata.org/entity/Q5959\n",
      "XX1082252 \t http://www.wikidata.org/entity/Q9440\n",
      "XX1100994 \t http://www.wikidata.org/entity/Q9204\n",
      "XX1108525 \t http://www.wikidata.org/entity/Q5351\n",
      "XX1114798 \t http://www.wikidata.org/entity/Q5811\n",
      "XX1120629 \t http://www.wikidata.org/entity/Q6515\n",
      "XX1133383 \t http://www.wikidata.org/entity/Q3772\n",
      "XX1143814 \t http://www.wikidata.org/entity/Q5676\n",
      "XX1154847 \t http://www.wikidata.org/entity/Q5673\n",
      "XX1158820 \t http://www.wikidata.org/entity/Q12054\n",
      "XX1160859 \t http://www.wikidata.org/entity/Q4441\n",
      "XX1163656 \t http://www.wikidata.org/entity/Q6538\n",
      "XX1164088 \t http://www.wikidata.org/entity/Q6682\n",
      "XX1170095 \t http://www.wikidata.org/entity/Q11270\n",
      "XX1186634 \t http://www.wikidata.org/entity/Q7789\n",
      "XX1194464 \t http://www.wikidata.org/entity/Q4040\n",
      "XX1202327 \t http://www.wikidata.org/entity/Q4487\n",
      "XX1212681 \t http://www.wikidata.org/entity/Q7803\n",
      "XX1219704 \t http://www.wikidata.org/entity/Q8814\n",
      "XX1238394 \t http://www.wikidata.org/entity/Q7321\n",
      "XX1244134 \t http://www.wikidata.org/entity/Q5198\n",
      "XX1254829 \t http://www.wikidata.org/entity/Q7031\n",
      "XX126086 \t http://www.wikidata.org/entity/Q8828\n",
      "XX1296461 \t http://www.wikidata.org/entity/Q4960\n",
      "XX1307938 \t http://www.wikidata.org/entity/Q4491\n",
      "XX1318659 \t http://www.wikidata.org/entity/Q12756\n",
      "XX134001 \t http://www.wikidata.org/entity/Q8780\n",
      "XX1387174 \t http://www.wikidata.org/entity/Q9129\n",
      "XX1721369 \t http://www.wikidata.org/entity/Q5580\n",
      "XX1725796 \t http://www.wikidata.org/entity/Q5571\n",
      "XX1770990 \t http://www.wikidata.org/entity/Q11079\n",
      "XX1799027 \t http://www.wikidata.org/entity/Q8511\n",
      "XX254977 \t http://www.wikidata.org/entity/Q12480\n",
      "XX450694 \t http://www.wikidata.org/entity/Q10305\n",
      "XX450791 \t http://www.wikidata.org/entity/Q7038\n",
      "XX452812 \t http://www.wikidata.org/entity/Q12569\n"
     ]
    }
   ],
   "source": [
    "import requests\n",
    "import json\n",
    "import pickle\n",
    "\n",
    "\n",
    "\n",
    "def get_bne_wikidata(max_number=100):\n",
    "    key = \"bne\"\n",
    "    value = \"wikidata\"\n",
    "    endpoint = \"\"\"https://query.wikidata.org/bigdata/namespace/wdq/sparql?query=\"\"\"\n",
    "    \n",
    "    query = \"\"\"PREFIX wikibase: <http://wikiba.se/ontology>\n",
    "    SELECT ?bne ?wikidata\n",
    "    WHERE { \n",
    "        ?wikidata wdt:P950 ?bne .\n",
    "    }\n",
    "    LIMIT \"\"\"+str(max_number)\n",
    "    \n",
    "    headers = {\"Accept\" : \"application/json\"}\n",
    "    response = requests.get(endpoint+query, headers=headers)\n",
    "    json_data = response.json()['results']['bindings']\n",
    "    return [(item[key]['value'], item[value]['value']) for item in json_data]\n",
    "\n",
    "\n",
    "datos = get_bne_wikidata()\n",
    "for key,value in datos:\n",
    "    print(key,\"\\t\",value)\n",
    "\n",
    "f = open(\"wikidatamap.bin\", \"wb+\")\n",
    "pickle.dump(datos, f)"
   ]
  },
  {
   "cell_type": "code",
   "execution_count": 2,
   "metadata": {
    "collapsed": false
   },
   "outputs": [
    {
     "data": {
      "text/plain": [
       "['http:', '', 'www.wikidata.org', 'entity', 'Qxxx']"
      ]
     },
     "execution_count": 2,
     "metadata": {},
     "output_type": "execute_result"
    }
   ],
   "source": []
  },
  {
   "cell_type": "code",
   "execution_count": 184,
   "metadata": {
    "collapsed": false,
    "scrolled": true
   },
   "outputs": [
    {
     "name": "stdout",
     "output_type": "stream",
     "text": [
      "8363 entities, 930 relations, 9996 tripletas\n"
     ]
    },
    {
     "data": {
      "text/plain": [
       "True"
      ]
     },
     "execution_count": 184,
     "metadata": {},
     "output_type": "execute_result"
    }
   ],
   "source": [
    "import importlib\n",
    "import pickle\n",
    "import dataset\n",
    "importlib.reload(dataset)\n",
    "\n",
    "\n",
    "datos = dataset.Dataset()\n",
    "query2 = \"\"\"PREFIX wikibase: <http://wikiba.se/ontology>\n",
    "construct { ?wikidata ?predicate ?object . ?object ?predicate2 ?object2 . ?object2 ?predicate3 ?object3 }\n",
    "WHERE { ?wikidata wdt:P950 ?bne .\n",
    "?wikidata ?predicate ?object .\n",
    "    ?object ?predicate2 ?object2 .\n",
    "?object2 ?predicate3 ?object3\n",
    "} LIMIT 50000\n",
    "\"\"\"\n",
    "datos.load_dataset_from_query(query2, only_uri=False)\n",
    "\n",
    "\n",
    "#datos.load_dataset_from_nlevels(5, extra_params=\"LIMIT 100\")\n",
    "datos.show(verbose=False)\n",
    "dataset1 = datos.train_split()\n",
    "\n",
    "#     print(sub,dataset1[sub])\n",
    "datos.save_to_binary(\"wikidata_2.bin\")\n",
    "\n",
    "# datos.subs\n",
    "\n",
    "#print(len(jsonlist))\n",
    "#jsonlist"
   ]
  },
  {
   "cell_type": "code",
   "execution_count": 164,
   "metadata": {
    "collapsed": false
   },
   "outputs": [
    {
     "name": "stdout",
     "output_type": "stream",
     "text": [
      "440\n",
      "440\n",
      "1497\n",
      "1497\n",
      "[  0   0   0 ..., 438 438 439]\n",
      "[[  0]\n",
      " [  1]\n",
      " [  3]\n",
      " ..., \n",
      " [220]\n",
      " [439]\n",
      " [ 31]]\n",
      "Splitting the data into training and validation sets ...\n",
      "(1727, 3)\n",
      "(173, 3) \n",
      "\n",
      "\n",
      " (172, 3) \n",
      "\n",
      "\n",
      " (1382, 3)\n",
      "1727\n"
     ]
    }
   ],
   "source": [
    "import numpy as np\n",
    "rel = [i[2] for i in datos.subs]\n",
    "print(len(datos.relations_dict))\n",
    "print(len(datos.relations))\n",
    "print(len(datos.entities_dict))\n",
    "print(len(datos.entities))\n",
    "rel = np.array(rel)\n",
    "print(np.sort(rel))\n",
    "data = np.matrix(datos.subs)\n",
    "print(data[:,2])\n",
    "\n",
    "print('Splitting the data into training and validation sets ...')\n",
    "print(data.shape)\n",
    "indices = np.arange(data.shape[0])\n",
    "np.random.shuffle(indices)\n",
    "data = data[indices]\n",
    "nb_validation_samples = int(0.2 * data.shape[0])\n",
    "\n",
    "\n",
    "x_train = data[:-nb_validation_samples]\n",
    "x_val = data[-nb_validation_samples:-int(nb_validation_samples/2)]\n",
    "x_test = data[-int(nb_validation_samples/2):]\n",
    "\n",
    "print(x_val.shape,\"\\n\\n\\n\",x_test.shape,\"\\n\\n\\n\",x_train.shape)\n",
    "print(x_test.shape[0]+x_train.shape[0]+x_val.shape[0])\n"
   ]
  },
  {
   "cell_type": "code",
   "execution_count": 152,
   "metadata": {
    "collapsed": false
   },
   "outputs": [
    {
     "data": {
      "text/plain": [
       "[8, 9]"
      ]
     },
     "execution_count": 152,
     "metadata": {},
     "output_type": "execute_result"
    }
   ],
   "source": [
    "ls = [1,2,3,4,5,6,7,8,9]\n",
    "ls[-4:-2]\n",
    "ls[-2:]"
   ]
  },
  {
   "cell_type": "code",
   "execution_count": 103,
   "metadata": {
    "collapsed": false
   },
   "outputs": [
    {
     "name": "stdout",
     "output_type": "stream",
     "text": [
      "2110 1491 497\n",
      "2112 1491 802\n"
     ]
    },
    {
     "data": {
      "text/plain": [
       "matrix([[147],\n",
       "        [332],\n",
       "        [ 49],\n",
       "        ..., \n",
       "        [383],\n",
       "        [  0],\n",
       "        [ 31]])"
      ]
     },
     "execution_count": 103,
     "metadata": {},
     "output_type": "execute_result"
    }
   ],
   "source": [
    "print(x_val[:,0].max(),x_val[:,1].max(),x_val[:,2].max())\n",
    "print(x_train[:,0].max(),x_train[:,1].max(),x_train[:,2].max())\n",
    "\n",
    "import matplotlib.pyplot as plt\n",
    "x_train[:,2]\n",
    "# plt.hist(data[:,2])\n",
    "# plt.hist(x_train[:,2])\n",
    "# plt.hist(x_val[:,2])\n"
   ]
  },
  {
   "cell_type": "code",
   "execution_count": 71,
   "metadata": {
    "collapsed": false
   },
   "outputs": [
    {
     "name": "stdout",
     "output_type": "stream",
     "text": [
      "17 entities, 20 relations, 8 tripletas\n",
      "\n",
      "Entities (17):\n",
      "http://www.wikidata.org/entity/statement/Q4061-56D5D279-933F-424A-BF3C-F815B71C9E13\n",
      "http://www.wikidata.org/entity/Q4061\n",
      "http://www.wikidata.org/entity/Q5\n",
      "http://www.wikidata.org/entity/statement/q4061-E6167F73-D1E0-481C-9670-C40130F6D713\n",
      "http://www.wikidata.org/entity/Q206855\n",
      "http://www.wikidata.org/entity/statement/Q4061-78820460-1AB5-468B-9A5C-B4D4AC0F80BA\n",
      "http://www.wikidata.org/entity/Q328\n",
      "http://www.wikidata.org/entity/statement/q4061-CE06B5CE-7CD8-4BCC-AB1E-8D4D7AB74784\n",
      "http://www.wikidata.org/entity/Q20666306\n",
      "http://www.wikidata.org/entity/Q169514\n",
      "http://www.wikidata.org/entity/statement/Q4061-E3EC6076-89F0-46D2-BEC1-A29D17BAF0C0\n",
      "http://www.wikidata.org/entity/statement/Q4061-637C5166-7505-476A-B8A3-A9BCBF3B7197\n",
      "http://www.wikidata.org/entity/Q11920\n",
      "http://data.bnf.fr/ark:/12148/cb11906563k\n",
      "http://www.wikidata.org/entity/Q36578\n",
      "http://www.wikidata.org/entity/Q54919\n",
      "http://www.wikidata.org/entity/statement/Q4061-a41c01b2-48c4-c40e-783f-79bbf1de7649\n",
      "\n",
      "Relations (20):\n",
      "http://www.wikidata.org/prop/P31\n",
      "http://www.wikidata.org/prop/statement/P31\n",
      "http://schema.org/dateModified\n",
      "http://wikiba.se/ontology#statements\n",
      "http://wikiba.se/ontology#sitelinks\n",
      "http://www.wikidata.org/prop/P21\n",
      "http://www.w3.org/ns/prov#wasDerivedFrom\n",
      "http://www.wikidata.org/prop/reference/P813\n",
      "http://www.wikidata.org/prop/reference/P143\n",
      "http://www.wikidata.org/prop/P106\n",
      "http://www.wikidata.org/prop/P20\n",
      "http://www.wikidata.org/prop/reference/P248\n",
      "http://www.wikidata.org/prop/P18\n",
      "http://www.wikidata.org/prop/reference/value/P813\n",
      "http://schema.org/description\n",
      "http://www.w3.org/2000/01/rdf-schema#label\n",
      "http://www.wikidata.org/prop/P27\n",
      "http://www.wikidata.org/prop/reference/P854\n",
      "http://www.wikidata.org/prop/P19\n",
      "http://schema.org/version\n",
      "\n",
      "Tripletas (8):\n",
      "[0, 1, 0]\n",
      "[2, 0, 1]\n",
      "[3, 1, 5]\n",
      "[5, 1, 9]\n",
      "[7, 1, 10]\n",
      "[10, 1, 12]\n",
      "[11, 1, 16]\n",
      "[16, 1, 18]\n"
     ]
    }
   ],
   "source": [
    "test1json = open(\"test1.json\",\"r\")\n",
    "\n",
    "import importlib\n",
    "import pickle\n",
    "import dataset\n",
    "import json\n",
    "importlib.reload(dataset)\n",
    "\n",
    "\n",
    "datos = dataset.Dataset()\n",
    "tjson = json.load(test1json)\n",
    "datos.load_dataset_from_json(tjson)\n",
    "datos.show(verbose=True)\n"
   ]
  },
  {
   "cell_type": "code",
   "execution_count": 186,
   "metadata": {
    "collapsed": false,
    "scrolled": true
   },
   "outputs": [
    {
     "name": "stdout",
     "output_type": "stream",
     "text": [
      "40943 entities, 18 relations, 151442 tripletas\n"
     ]
    }
   ],
   "source": [
    "import importlib\n",
    "import pickle\n",
    "import dataset\n",
    "importlib.reload(dataset)\n",
    "\n",
    "\n",
    "datos = dataset.Dataset()\n",
    "datos.load_from_binary(\"wn18.bin\")\n",
    "datos.show(verbose=False)"
   ]
  },
  {
   "cell_type": "code",
   "execution_count": null,
   "metadata": {
    "collapsed": true
   },
   "outputs": [],
   "source": []
  }
 ],
 "metadata": {
  "kernelspec": {
   "display_name": "Python 3",
   "language": "python",
   "name": "python3"
  },
  "language_info": {
   "codemirror_mode": {
    "name": "ipython",
    "version": 3
   },
   "file_extension": ".py",
   "mimetype": "text/x-python",
   "name": "python",
   "nbconvert_exporter": "python",
   "pygments_lexer": "ipython3",
   "version": "3.5.2"
  }
 },
 "nbformat": 4,
 "nbformat_minor": 0
}
