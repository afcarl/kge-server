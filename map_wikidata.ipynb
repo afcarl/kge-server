{
 "cells": [
  {
   "cell_type": "code",
   "execution_count": null,
   "metadata": {
    "collapsed": false,
    "scrolled": true
   },
   "outputs": [],
   "source": [
    "import requests\n",
    "import json\n",
    "import pickle\n",
    "\n",
    "\n",
    "\n",
    "def get_bne_wikidata(max_number=100):\n",
    "    key = \"bne\"\n",
    "    value = \"wikidata\"\n",
    "    endpoint = \"\"\"https://query.wikidata.org/bigdata/namespace/wdq/sparql?query=\"\"\"\n",
    "    \n",
    "    query = \"\"\"PREFIX wikibase: <http://wikiba.se/ontology>\n",
    "    SELECT ?bne ?wikidata\n",
    "    WHERE { \n",
    "        ?wikidata wdt:P950 ?bne .\n",
    "    }\n",
    "    LIMIT \"\"\"+str(max_number)\n",
    "    \n",
    "    headers = {\"Accept\" : \"application/json\"}\n",
    "    response = requests.get(endpoint+query, headers=headers)\n",
    "    json_data = response.json()['results']['bindings']\n",
    "    return [(item[key]['value'], item[value]['value']) for item in json_data]\n",
    "\n",
    "\n",
    "datos = get_bne_wikidata()\n",
    "#for key,value in datos:\n",
    "    #print(key,\"\\t\",value)\n",
    "\n",
    "f = open(\"wikidatamap.bin\", \"wb+\")\n",
    "pickle.dump(datos, f)"
   ]
  },
  {
   "cell_type": "code",
   "execution_count": null,
   "metadata": {
    "collapsed": false,
    "scrolled": true
   },
   "outputs": [],
   "source": [
    "import importlib\n",
    "import pickle\n",
    "import dataset\n",
    "importlib.reload(dataset)\n",
    "\n",
    "\n",
    "datos = dataset.Dataset()\n",
    "query2 = \"\"\"PREFIX wikibase: <http://wikiba.se/ontology>\n",
    "construct { ?wikidata ?predicate ?object . ?object ?predicate2 ?object2 . ?object2 ?predicate3 ?object3 }\n",
    "WHERE { ?wikidata wdt:P950 ?bne .\n",
    "?wikidata ?predicate ?object .\n",
    "    ?object ?predicate2 ?object2 .\n",
    "?object2 ?predicate3 ?object3\n",
    "} LIMIT 10000 OFFSET 1880000\n",
    "\"\"\"\n",
    "datos.load_dataset_from_query(query2, only_uri=False)\n",
    "\n",
    "\n",
    "#datos.load_dataset_from_nlevels(5, extra_params=\"LIMIT 100\")\n",
    "datos.show(verbose=False)\n",
    "dataset1 = datos.train_split()\n",
    "\n",
    "#     print(sub,dataset1[sub])\n",
    "datos.save_to_binary(\"wikidata_2.bin\")\n",
    "\n",
    "# datos.subs\n",
    "\n",
    "#print(len(jsonlist))\n",
    "#jsonlist"
   ]
  },
  {
   "cell_type": "code",
   "execution_count": 13,
   "metadata": {
    "collapsed": false,
    "scrolled": true
   },
   "outputs": [
    {
     "name": "stdout",
     "output_type": "stream",
     "text": [
      "14951 entities, 1345 relations, 592213 tripletas\n"
     ]
    }
   ],
   "source": [
    "import importlib\n",
    "import pickle\n",
    "import kgeserver.dataset as dataset\n",
    "importlib.reload(dataset)\n",
    "\n",
    "\n",
    "datos = dataset.Dataset()\n",
    "fb_test = open(\"FB15k/freebase_mtr100_mte100-test.txt\", \"r\")\n",
    "fb_train = open(\"FB15k/freebase_mtr100_mte100-train.txt\", \"r\")\n",
    "fb_valid = open(\"FB15k/freebase_mtr100_mte100-valid.txt\", \"r\")\n",
    "datos.load_dataset_from_csv(fb_train, \"\\t\")\n",
    "datos.load_dataset_from_csv(fb_test, \"\\t\")\n",
    "datos.load_dataset_from_csv(fb_valid, \"\\t\")\n",
    "\n",
    "datos.show(verbose=False)\n",
    "\n"
   ]
  },
  {
   "cell_type": "code",
   "execution_count": null,
   "metadata": {
    "collapsed": false,
    "scrolled": true
   },
   "outputs": [],
   "source": [
    "import importlib\n",
    "import kgeserver.dataset as dataset\n",
    "import kgeserver.wikidata_dataset as wikidata_dataset\n",
    "import pickle\n",
    "importlib.reload(dataset)\n",
    "importlib.reload(wikidata_dataset)\n",
    "from datetime import datetime\n",
    "\n",
    "dtset = wikidata_dataset.WikidataDataset()\n",
    "\n",
    "sv = dtset.get_seed_vector(verbose=2)\n",
    "#dataset.load_entire_dataset(1)\n",
    "dtset.load_dataset_recurrently(2, sv, verbose=2)\n",
    "dtset.show()\n",
    "\n"
   ]
  },
  {
   "cell_type": "code",
   "execution_count": 22,
   "metadata": {
    "collapsed": false
   },
   "outputs": [
    {
     "name": "stdout",
     "output_type": "stream",
     "text": [
      "P31\n"
     ]
    },
    {
     "data": {
      "text/plain": [
       "True"
      ]
     },
     "execution_count": 22,
     "metadata": {},
     "output_type": "execute_result"
    }
   ],
   "source": [
    "print(dtset.relations[8])\n",
    "dtset.save_to_binary(\"wikidata_25k.bin\")"
   ]
  },
  {
   "cell_type": "code",
   "execution_count": null,
   "metadata": {
    "collapsed": false,
    "scrolled": true
   },
   "outputs": [],
   "source": [
    "import importlib\n",
    "import dataset\n",
    "import algorithm\n",
    "import skge\n",
    "importlib.reload(dataset)\n",
    "importlib.reload(algorithm)\n",
    "\n",
    "\n",
    "dt = dataset.Dataset()\n",
    "\n",
    "dt.load_from_binary(\"wn18.bin\")\n",
    "\n",
    "al = algorithm.Algorithm(dt)\n",
    "\n",
    "models = models = al.find_best(ncomps=[50], margins=[2], model_types=[skge.TransE])"
   ]
  },
  {
   "cell_type": "code",
   "execution_count": 1,
   "metadata": {
    "collapsed": false
   },
   "outputs": [
    {
     "name": "stdout",
     "output_type": "stream",
     "text": [
      "The slowest run took 28.27 times longer than the fastest. This could mean that an intermediate result is being cached.\n",
      "10000000 loops, best of 3: 66.3 ns per loop\n",
      "10000000 loops, best of 3: 54.5 ns per loop\n",
      "100000000 loops, best of 3: 15.9 ns per loop\n",
      "{'a': 1234, 'b': 4567} [1234, 4567] 2\n"
     ]
    }
   ],
   "source": [
    "dic = {\"a\":1234, \"b\":5678}\n",
    "l = [1234, 5678]\n",
    "s = 2\n",
    "%timeit dic[\"b\"]=4567\n",
    "%timeit l[1]=4567\n",
    "%timeit s = 4567\n",
    "\n",
    "print(dic, l, s)"
   ]
  },
  {
   "cell_type": "code",
   "execution_count": 7,
   "metadata": {
    "collapsed": false
   },
   "outputs": [
    {
     "name": "stdout",
     "output_type": "stream",
     "text": [
      "SELECT (wd:Q50 as ?subject) ?predicate ?object\n",
      "    WHERE {\n",
      "      wd:Q50 ?predicate ?object . ?predicate a owl:ObjectProperty . FILTER NOT EXISTS { ?object a wikibase:BestRank }\n",
      "    }\n"
     ]
    }
   ],
   "source": [
    "wikidataQueries = {\n",
    "    \"where\": (\"{0} ?predicate ?object . \"\n",
    "              \"?predicate a owl:ObjectProperty . \"\n",
    "              \"FILTER NOT EXISTS {{ ?object a wikibase:BestRank }}\")\n",
    "}\n",
    "wikidata_id=50\n",
    "el_query = \"\"\"SELECT ({0} as ?subject) ?predicate ?object\n",
    "    WHERE {{\n",
    "      {1}\n",
    "    }}\"\"\".format(\"wd:Q{0}\".format(wikidata_id),wikidataQueries[\"where\"].format(\"wd:Q{0}\".format(wikidata_id)))\n",
    "\n",
    "print(el_query)"
   ]
  }
 ],
 "metadata": {
  "kernelspec": {
   "display_name": "Python 3",
   "language": "python",
   "name": "python3"
  },
  "language_info": {
   "codemirror_mode": {
    "name": "ipython",
    "version": 3
   },
   "file_extension": ".py",
   "mimetype": "text/x-python",
   "name": "python",
   "nbconvert_exporter": "python",
   "pygments_lexer": "ipython3",
   "version": "3.5.2"
  }
 },
 "nbformat": 4,
 "nbformat_minor": 0
}
