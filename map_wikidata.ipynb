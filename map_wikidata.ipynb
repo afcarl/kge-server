{
 "cells": [
  {
   "cell_type": "code",
   "execution_count": 21,
   "metadata": {
    "collapsed": false
   },
   "outputs": [
    {
     "name": "stdout",
     "output_type": "stream",
     "text": [
      "XX1022209 \t http://www.wikidata.org/entity/Q368\n",
      "XX1149955 \t http://www.wikidata.org/entity/Q42\n",
      "XX1157500 \t http://www.wikidata.org/entity/Q23\n",
      "XX1601283 \t http://www.wikidata.org/entity/Q207\n",
      "XX450924 \t http://www.wikidata.org/entity/Q183\n",
      "XX865983 \t http://www.wikidata.org/entity/Q297\n",
      "XX1007441 \t http://www.wikidata.org/entity/Q4128\n",
      "XX1026401 \t http://www.wikidata.org/entity/Q1405\n",
      "XX1033111 \t http://www.wikidata.org/entity/Q5664\n",
      "XX1069173 \t http://www.wikidata.org/entity/Q5721\n",
      "XX1081498 \t http://www.wikidata.org/entity/Q5959\n",
      "XX1085266 \t http://www.wikidata.org/entity/Q1124\n",
      "XX1108525 \t http://www.wikidata.org/entity/Q5351\n",
      "XX1108831 \t http://www.wikidata.org/entity/Q1149\n",
      "XX1114798 \t http://www.wikidata.org/entity/Q5811\n",
      "XX1143814 \t http://www.wikidata.org/entity/Q5676\n",
      "XX1146791 \t http://www.wikidata.org/entity/Q747\n",
      "XX1154847 \t http://www.wikidata.org/entity/Q5673\n",
      "XX1156883 \t http://www.wikidata.org/entity/Q1868\n",
      "XX1160859 \t http://www.wikidata.org/entity/Q4441\n",
      "XX1195983 \t http://www.wikidata.org/entity/Q1488\n",
      "XX1202327 \t http://www.wikidata.org/entity/Q4487\n",
      "XX1220179 \t http://www.wikidata.org/entity/Q1317\n",
      "XX1244134 \t http://www.wikidata.org/entity/Q5198\n",
      "XX1253209 \t http://www.wikidata.org/entity/Q2667\n",
      "XX1266593 \t http://www.wikidata.org/entity/Q873\n",
      "XX1296461 \t http://www.wikidata.org/entity/Q4960\n",
      "XX1475818 \t http://www.wikidata.org/entity/Q1254\n",
      "XX1536789 \t http://www.wikidata.org/entity/Q2190\n",
      "XX1720293 \t http://www.wikidata.org/entity/Q909\n",
      "XX1721369 \t http://www.wikidata.org/entity/Q5580\n",
      "XX1721422 \t http://www.wikidata.org/entity/Q501\n",
      "XX1721463 \t http://www.wikidata.org/entity/Q619\n",
      "XX1725796 \t http://www.wikidata.org/entity/Q5571\n",
      "XX451232 \t http://www.wikidata.org/entity/Q801\n",
      "XX455778 \t http://www.wikidata.org/entity/Q807\n",
      "XX4908152 \t http://www.wikidata.org/entity/Q686\n",
      "XX4946954 \t http://www.wikidata.org/entity/Q920\n",
      "XX527582 \t http://www.wikidata.org/entity/Q556\n",
      "XX530277 \t http://www.wikidata.org/entity/Q1100\n",
      "XX531321 \t http://www.wikidata.org/entity/Q716\n",
      "XX534324 \t http://www.wikidata.org/entity/Q876\n",
      "XX536285 \t http://www.wikidata.org/entity/Q861\n",
      "XX821118 \t http://www.wikidata.org/entity/Q2492\n",
      "XX830098 \t http://www.wikidata.org/entity/Q2518\n",
      "XX831181 \t http://www.wikidata.org/entity/Q926\n",
      "XX834035 \t http://www.wikidata.org/entity/Q937\n",
      "XX837554 \t http://www.wikidata.org/entity/Q1325\n",
      "XX852201 \t http://www.wikidata.org/entity/Q79822\n",
      "XX861780 \t http://www.wikidata.org/entity/Q5586\n",
      "XX870212 \t http://www.wikidata.org/entity/Q1500\n",
      "XX876499 \t http://www.wikidata.org/entity/Q2567\n",
      "XX878400 \t http://www.wikidata.org/entity/Q1151\n",
      "XX888249 \t http://www.wikidata.org/entity/Q5582\n",
      "XX894692 \t http://www.wikidata.org/entity/Q1276\n",
      "XX895839 \t http://www.wikidata.org/entity/Q853\n",
      "XX901155 \t http://www.wikidata.org/entity/Q4985\n",
      "XX907590 \t http://www.wikidata.org/entity/Q905\n",
      "XX915528 \t http://www.wikidata.org/entity/Q2494\n",
      "XX927646 \t http://www.wikidata.org/entity/Q1257\n",
      "XX931335 \t http://www.wikidata.org/entity/Q5816\n",
      "XX959565 \t http://www.wikidata.org/entity/Q849\n",
      "XX962045 \t http://www.wikidata.org/entity/Q4061\n",
      "XX969969 \t http://www.wikidata.org/entity/Q5383\n",
      "XX978219 \t http://www.wikidata.org/entity/Q5749\n",
      "XX989456 \t http://www.wikidata.org/entity/Q1646\n",
      "XX992838 \t http://www.wikidata.org/entity/Q1339\n",
      "XX993492 \t http://www.wikidata.org/entity/Q4700\n",
      "XX995632 \t http://www.wikidata.org/entity/Q1511\n",
      "XX1002945 \t http://www.wikidata.org/entity/Q9130\n",
      "XX1003226 \t http://www.wikidata.org/entity/Q9342\n",
      "XX1012281 \t http://www.wikidata.org/entity/Q9458\n",
      "XX1018804 \t http://www.wikidata.org/entity/Q15145\n",
      "XX1041185 \t http://www.wikidata.org/entity/Q7728\n",
      "XX1047593 \t http://www.wikidata.org/entity/Q17455\n",
      "XX1069397 \t http://www.wikidata.org/entity/Q16864\n",
      "XX1081117 \t http://www.wikidata.org/entity/Q9348\n",
      "XX1082252 \t http://www.wikidata.org/entity/Q9440\n",
      "XX1100994 \t http://www.wikidata.org/entity/Q9204\n",
      "XX1120629 \t http://www.wikidata.org/entity/Q6515\n",
      "XX1163656 \t http://www.wikidata.org/entity/Q6538\n",
      "XX1164088 \t http://www.wikidata.org/entity/Q6682\n",
      "XX1186634 \t http://www.wikidata.org/entity/Q7789\n",
      "XX1212681 \t http://www.wikidata.org/entity/Q7803\n",
      "XX1219704 \t http://www.wikidata.org/entity/Q8814\n",
      "XX1254829 \t http://www.wikidata.org/entity/Q7031\n",
      "XX126086 \t http://www.wikidata.org/entity/Q8828\n",
      "XX1318659 \t http://www.wikidata.org/entity/Q12756\n",
      "XX134001 \t http://www.wikidata.org/entity/Q8780\n",
      "XX1724110 \t http://www.wikidata.org/entity/Q13888\n",
      "XX1770990 \t http://www.wikidata.org/entity/Q11079\n",
      "XX1776375 \t http://www.wikidata.org/entity/Q14277\n",
      "XX1799027 \t http://www.wikidata.org/entity/Q8511\n",
      "XX254977 \t http://www.wikidata.org/entity/Q12480\n",
      "XX450643 \t http://www.wikidata.org/entity/Q15346\n",
      "XX450694 \t http://www.wikidata.org/entity/Q10305\n",
      "XX450791 \t http://www.wikidata.org/entity/Q7038\n",
      "XX452812 \t http://www.wikidata.org/entity/Q12569\n",
      "XX453048 \t http://www.wikidata.org/entity/Q9365\n",
      "XX4579283 \t http://www.wikidata.org/entity/Q7546\n"
     ]
    }
   ],
   "source": [
    "import requests\n",
    "import json\n",
    "import pickle\n",
    "\n",
    "\n",
    "\n",
    "def get_bne_wikidata(max_number=100):\n",
    "    key = \"bne\"\n",
    "    value = \"wikidata\"\n",
    "    endpoint = \"\"\"https://query.wikidata.org/bigdata/namespace/wdq/sparql?query=\"\"\"\n",
    "    \n",
    "    query = \"\"\"PREFIX wikibase: <http://wikiba.se/ontology>\n",
    "    SELECT ?bne ?wikidata\n",
    "    WHERE { \n",
    "        ?wikidata wdt:P950 ?bne .\n",
    "    }\n",
    "    LIMIT \"\"\"+str(max_number)\n",
    "    \n",
    "    headers = {\"Accept\" : \"application/json\"}\n",
    "    response = requests.get(endpoint+query, headers=headers)\n",
    "    json_data = response.json()['results']['bindings']\n",
    "    return [(item[key]['value'], item[value]['value']) for item in json_data]\n",
    "\n",
    "\n",
    "\n",
    "for key,value in get_bne_wikidata():\n",
    "    print(key,\"\\t\",value)    "
   ]
  },
  {
   "cell_type": "code",
   "execution_count": 2,
   "metadata": {
    "collapsed": false
   },
   "outputs": [
    {
     "data": {
      "text/plain": [
       "['http:', '', 'www.wikidata.org', 'entity', 'Qxxx']"
      ]
     },
     "execution_count": 2,
     "metadata": {},
     "output_type": "execute_result"
    }
   ],
   "source": []
  },
  {
   "cell_type": "code",
   "execution_count": 16,
   "metadata": {
    "collapsed": false
   },
   "outputs": [
    {
     "name": "stdout",
     "output_type": "stream",
     "text": [
      "634 entities, 67 relations, 616 tripletas\n"
     ]
    }
   ],
   "source": [
    "import importlib\n",
    "import pickle\n",
    "import dataset\n",
    "importlib.reload(dataset)\n",
    "\n",
    "   \n",
    "datos = dataset.Dataset()\n",
    "query2 = \"\"\"PREFIX wikibase: <http://wikiba.se/ontology>\n",
    "construct { ?wikidata ?predicate ?object . ?object ?predicate2 ?object2 . ?object2 ?predicate3 ?object3 }\n",
    "WHERE { ?wikidata wdt:P950 ?bne .\n",
    "?wikidata ?predicate ?object .\n",
    "?object ?predicate2 ?object2 .\n",
    "?object2 ?predicate3 ?object3\n",
    "} LIMIT 1000\n",
    "\"\"\"\n",
    "datos.load_dataset_from_query(query2, only_uri=False)\n",
    "datos.show()\n",
    "\n",
    "datos.save_to_binary(\"aquimismo2\")\n",
    "\n",
    "#print(len(jsonlist))\n",
    "#jsonlist"
   ]
  },
  {
   "cell_type": "code",
   "execution_count": null,
   "metadata": {
    "collapsed": true
   },
   "outputs": [],
   "source": []
  }
 ],
 "metadata": {
  "kernelspec": {
   "display_name": "Python 3",
   "language": "python",
   "name": "python3"
  },
  "language_info": {
   "codemirror_mode": {
    "name": "ipython",
    "version": 3
   },
   "file_extension": ".py",
   "mimetype": "text/x-python",
   "name": "python",
   "nbconvert_exporter": "python",
   "pygments_lexer": "ipython3",
   "version": "3.5.2"
  }
 },
 "nbformat": 4,
 "nbformat_minor": 0
}
